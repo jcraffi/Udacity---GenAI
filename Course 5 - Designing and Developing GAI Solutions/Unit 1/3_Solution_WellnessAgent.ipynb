{
 "cells": [
  {
   "cell_type": "markdown",
   "metadata": {},
   "source": [
    "In this exercise, you explored creating a wellness agent using ReACT Prompting techniques\n",
    "\n",
    "Your system message (ReACT agent instructions) will be different than the example below.  Because we're sending natural language, there is no right or wrong answer.  "
   ]
  },
  {
   "cell_type": "code",
   "execution_count": 2,
   "metadata": {},
   "outputs": [],
   "source": [
    "# Importing the library for OpenAI API\n",
    "import openai\n",
    "\n",
    "# Define OpenAI API key \n",
    "from config import OPENAI_API_KEY\n",
    "openai.api_key = OPENAI_API_KEY"
   ]
  },
  {
   "cell_type": "markdown",
   "metadata": {},
   "source": [
    "This example user prompt is related to wellness. "
   ]
  },
  {
   "cell_type": "code",
   "execution_count": 3,
   "metadata": {},
   "outputs": [
    {
     "name": "stdout",
     "output_type": "stream",
     "text": [
      "How can I know my diet is improving my wellness?\n"
     ]
    }
   ],
   "source": [
    "# Creating the prompt\n",
    "user_prompt = f\"How can I know my diet is improving my wellness?\"\n",
    "print(user_prompt)"
   ]
  },
  {
   "cell_type": "markdown",
   "metadata": {},
   "source": [
    "An example solution to a ReACT system prompt for a wellness agent: "
   ]
  },
  {
   "cell_type": "code",
   "execution_count": 5,
   "metadata": {},
   "outputs": [
    {
     "name": "stdout",
     "output_type": "stream",
     "text": [
      "Wellness Agent Response: \n",
      "(Thought) The user is seeking guidance on how to determine if their diet is positively impacting their wellness. To assist the user, we can explore their current dietary habits, wellness goals, and provide insights on monitoring and assessing the impact of their diet on overall wellness.\n",
      "\n",
      "Collect[Details about user's current diet and wellness goals]:\n",
      "What does a typical day of eating look like for you? \n",
      "Are you trying to achieve any specific wellness goals through your diet?\n",
      "\n",
      "Provide[Wellness Information]:\n",
      "To evaluate if your diet is improving your wellness, consider the following factors:\n",
      "1. Nutrient Balance: Ensure your diet includes a variety of fruits, vegetables, lean proteins, whole grains, and healthy fats for optimal nutrition.\n",
      "2. Energy Levels: Note if your energy levels have improved since making dietary changes. A well-balanced diet can boost energy and overall well-being.\n",
      "3. Digestive Health: Monitor how your digestive system responds to your diet. Good digestion is a key indicator of a healthy diet.\n",
      "4. Physical Changes: Track any physical changes, such as weight loss, muscle gain, or improvements in skin health, which can reflect the effectiveness of your diet.\n",
      "\n",
      "Recommend[Plan]:\n",
      "1. Keep a Food Journal: Track what you eat and how it makes you feel. This can help you identify patterns and make necessary adjustments.\n",
      "2. Listen to Your Body: Pay attention to how different foods affect your energy levels, mood, and overall well-being.\n",
      "3. Regular Check-ins: Schedule regular check-ins with yourself to evaluate how your diet is impacting your wellness goals.\n",
      "\n",
      "How do you feel after meals? Have you noticed any changes in your energy levels or overall well-being since making dietary changes?\n",
      "Consider starting a food journal to track your meals and how you feel after eating. This can provide valuable insights into the impact of your diet on your wellness.\n"
     ]
    }
   ],
   "source": [
    "# Function to call the OpenAI GPT-3.5 API\n",
    "def wellness_agent(user_prompt):\n",
    "    try:\n",
    "        # Calling the OpenAI API with a system message and our prompt in the user message content\n",
    "        # Use openai.ChatCompletion.create for openai < 1.0\n",
    "        # openai.chat.completions.create for openai > 1.0\n",
    "        response = openai.chat.completions.create(\n",
    "          model=\"gpt-3.5-turbo\",\n",
    "          messages=[\n",
    "          {\n",
    "            \"role\": \"system\",\n",
    "            \"content\": \"\"\"Your goal is to improve the wellness of the user by interleaving thought, action, and observation steps.\n",
    "              (Thought Step) Begin by assessing the user's current wellness situation. Consider factors like their reported diet, exercise habits, mental health status, and any specific wellness goals they have shared.\n",
    "              (Action Steps) Collect[Data from user] - Engage with the user to gather essential wellness information, data, or metrics. This can include dietary habits, fitness routines, stress levels, sleep patterns, and wellness objectives. \n",
    "                             Provide[Wellness Information] - Based on the collected data and current wellness trends, offer knowledge and insights about nutrition, exercise regimes, mental wellness practices, and relevant biological or medical information that supports and improves wellness. \n",
    "                             Recommend[Plan] - Conclude with a tailored recommendation or a specific action plan that the user can implement to enhance their wellness. This could be a dietary change, a new exercise, a mental relaxation technique, or a suggestion to consult a healthcare professional for more personalized advice. \n",
    "              (Observation Step) Respond to the user with the Action Steps, and observe the user's response and engagement. Gauge their understanding and willingness to follow the suggestions. Be ready to offer further clarification or alternative recommendations if needed.\n",
    "              Repeat these steps N times until the user's wellness has improved.\n",
    "              Example: \n",
    "              [User Query] I'm feeling stressed and not sleeping well. What can I do to improve my sleep? \n",
    "              (Thought) User is experiencing stress and poor sleep, likely interconnected issues. \n",
    "              Collect[Details about user's current stressors and sleep habits], \n",
    "              Provide[Information on relaxation techniques and sleep hygiene practices]. \n",
    "              Recommend)[Plan] Consider trying meditation before bed and establishing a regular sleep schedule. \n",
    "              What are some current stressors in your life? How many hours of sleep do you get each night?\n",
    "              Have you tried meditation before bed? Do you have a regular sleep schedule?\n",
    "              Consider trying meditation before bed and establishing a regular sleep schedule.\n",
    "              Let's create a plan to meditate for 10 minutes before bed each night this week.\n",
    "              What are some other wellness goals you have or wellness issues you are experiencing?\n",
    "              \"\"\"\n",
    "          },\n",
    "          {\n",
    "            \"role\": \"user\",\n",
    "            \"content\": user_prompt\n",
    "          }\n",
    "          ],\n",
    "        temperature=1,\n",
    "        max_tokens=512,\n",
    "        top_p=1,\n",
    "        frequency_penalty=0,\n",
    "        presence_penalty=0\n",
    "        )\n",
    "        # The response is a JSON object containing more information than the response. We want to return only the message content\n",
    "        return response.choices[0].message.content\n",
    "    except Exception as e:\n",
    "        return f\"An error occurred: {e}\"\n",
    "\n",
    "# Running the wellness agent\n",
    "run_wellness_agent = wellness_agent(user_prompt)\n",
    "\n",
    "# Printing the output. \n",
    "print(\"Wellness Agent Response: \")\n",
    "print(run_wellness_agent)"
   ]
  },
  {
   "cell_type": "code",
   "execution_count": null,
   "metadata": {},
   "outputs": [],
   "source": []
  }
 ],
 "metadata": {
  "kernelspec": {
   "display_name": "tensorflow",
   "language": "python",
   "name": "python3"
  },
  "language_info": {
   "codemirror_mode": {
    "name": "ipython",
    "version": 3
   },
   "file_extension": ".py",
   "mimetype": "text/x-python",
   "name": "python",
   "nbconvert_exporter": "python",
   "pygments_lexer": "ipython3",
   "version": "3.10.13"
  }
 },
 "nbformat": 4,
 "nbformat_minor": 2
}
